{
 "cells": [
  {
   "cell_type": "code",
   "execution_count": 1,
   "id": "5ed6ae10",
   "metadata": {},
   "outputs": [
    {
     "name": "stdout",
     "output_type": "stream",
     "text": [
      "Requirement already satisfied: bs4 in /Users/sandranwokolo/opt/anaconda3/lib/python3.9/site-packages (0.0.1)\n",
      "Requirement already satisfied: beautifulsoup4 in /Users/sandranwokolo/opt/anaconda3/lib/python3.9/site-packages (from bs4) (4.11.1)\n",
      "Requirement already satisfied: soupsieve>1.2 in /Users/sandranwokolo/opt/anaconda3/lib/python3.9/site-packages (from beautifulsoup4->bs4) (2.3.1)\n",
      "Note: you may need to restart the kernel to use updated packages.\n"
     ]
    }
   ],
   "source": [
    "pip install bs4"
   ]
  },
  {
   "cell_type": "code",
   "execution_count": 11,
   "id": "d6a05a10",
   "metadata": {},
   "outputs": [],
   "source": [
    "from bs4 import BeautifulSoup as soup"
   ]
  },
  {
   "cell_type": "code",
   "execution_count": 12,
   "id": "7b5d72e7",
   "metadata": {},
   "outputs": [],
   "source": [
    "html = \"\"\"\n",
    "\n",
    "<!DOCTYPE html>\n",
    "<html lang=\"en\">\n",
    "\n",
    "<head>\n",
    "    <meta charset=\"UTF-8\">\n",
    "    <meta http-equiv=\"X-UA-Compatible\" content=\"IE=edge\">\n",
    "    <meta name=\"viewport\" content=\"width=device-width, initial-scale=1.0\">\n",
    "    <title>Document</title>\n",
    "</head>\n",
    "\n",
    "<body>\n",
    "    <h1>pandas</h1>\n",
    "    <blockquote>pandas is a powerful Python data analysis library. </blockquote>\n",
    "\n",
    "    <div id=\"start\" , class=\"section\">\n",
    "        <h3 class=\"section-header\">Getting Started</h3>\n",
    "        <ul class=\"pandas-ul\">\n",
    "            <a href=\"https://pandas.pydata.org/getting_started.html\">\n",
    "                <li>Install pandas</li>\n",
    "            </a>\n",
    "            <a href=\"https://pandas.pydata.org/docs/getting_started/index.html\">\n",
    "                <li>Getting started</li>\n",
    "            </a>\n",
    "        </ul>\n",
    "    </div>\n",
    "\n",
    "    <div id=\"documentation\" , class=\"section\">\n",
    "        <h3 class=\"section-header\">Documentation</h3>\n",
    "        <ul class=\"pandas-ul\">\n",
    "            <a href=\"https://pandas.pydata.org/docs/user_guide/index.html\">\n",
    "                <li>User guide</li>\n",
    "            </a>\n",
    "            <a href=\"https://pandas.pydata.org/docs/reference/index.html\">\n",
    "                <li>API reference</li>\n",
    "            </a>\n",
    "            <a href=\"https://pandas.pydata.org/docs/development/index.html\">\n",
    "                <li>How to contribute to pandas</li>\n",
    "            </a>\n",
    "        </ul>\n",
    "    </div>\n",
    "\n",
    "    <div id=\"community\" , class=\"section\">\n",
    "        <h3 class=\"section-header\">The pandas Community</h3>\n",
    "        <ul class=\"pandas-ul\">\n",
    "            <a href=\"https://pandas.pydata.org/about/index.html\">\n",
    "                <li>More about pandas</li>\n",
    "            </a>\n",
    "            <a href=\"https://stackoverflow.com/questions/tagged/pandas\">\n",
    "                <li>Have questions?</li>\n",
    "            </a>\n",
    "            <a href=\"https://pandas.pydata.org/community/ecosystem.html\">\n",
    "                <li>The pandas ecosystem</li>\n",
    "            </a>\n",
    "        </ul>\n",
    "    </div>\n",
    "</body>\n",
    "\n",
    "</html>\n",
    "\n",
    "\"\"\""
   ]
  },
  {
   "cell_type": "code",
   "execution_count": 13,
   "id": "a01efa9e",
   "metadata": {},
   "outputs": [],
   "source": [
    "soup = soup(html, 'html.parser')"
   ]
  },
  {
   "cell_type": "code",
   "execution_count": null,
   "id": "2ac6100d",
   "metadata": {},
   "outputs": [],
   "source": []
  }
 ],
 "metadata": {
  "kernelspec": {
   "display_name": "PythonData",
   "language": "python",
   "name": "pythondata"
  },
  "language_info": {
   "codemirror_mode": {
    "name": "ipython",
    "version": 3
   },
   "file_extension": ".py",
   "mimetype": "text/x-python",
   "name": "python",
   "nbconvert_exporter": "python",
   "pygments_lexer": "ipython3",
   "version": "3.9.12"
  }
 },
 "nbformat": 4,
 "nbformat_minor": 5
}
